{
  "nbformat": 4,
  "nbformat_minor": 0,
  "metadata": {
    "colab": {
      "provenance": [],
      "authorship_tag": "ABX9TyO5WJCrwLFzNJzf24MZDnwC",
      "include_colab_link": true
    },
    "kernelspec": {
      "name": "python3",
      "display_name": "Python 3"
    },
    "language_info": {
      "name": "python"
    }
  },
  "cells": [
    {
      "cell_type": "markdown",
      "metadata": {
        "id": "view-in-github",
        "colab_type": "text"
      },
      "source": [
        "<a href=\"https://colab.research.google.com/github/vidishaagrawal/stock-price-prediction/blob/main/app.ipynb\" target=\"_parent\"><img src=\"https://colab.research.google.com/assets/colab-badge.svg\" alt=\"Open In Colab\"/></a>"
      ]
    },
    {
      "cell_type": "code",
      "source": [
        "!pip install streamlit"
      ],
      "metadata": {
        "colab": {
          "base_uri": "https://localhost:8080/"
        },
        "id": "GmQgucIi0ajI",
        "outputId": "2c1347cd-9c54-4e62-84d9-18c63f7fb0c9"
      },
      "execution_count": 17,
      "outputs": [
        {
          "output_type": "stream",
          "name": "stdout",
          "text": [
            "Requirement already satisfied: streamlit in /usr/local/lib/python3.11/dist-packages (1.43.0)\n",
            "Requirement already satisfied: altair<6,>=4.0 in /usr/local/lib/python3.11/dist-packages (from streamlit) (5.5.0)\n",
            "Requirement already satisfied: blinker<2,>=1.0.0 in /usr/local/lib/python3.11/dist-packages (from streamlit) (1.9.0)\n",
            "Requirement already satisfied: cachetools<6,>=4.0 in /usr/local/lib/python3.11/dist-packages (from streamlit) (5.5.2)\n",
            "Requirement already satisfied: click<9,>=7.0 in /usr/local/lib/python3.11/dist-packages (from streamlit) (8.1.8)\n",
            "Requirement already satisfied: numpy<3,>=1.23 in /usr/local/lib/python3.11/dist-packages (from streamlit) (1.26.4)\n",
            "Requirement already satisfied: packaging<25,>=20 in /usr/local/lib/python3.11/dist-packages (from streamlit) (24.2)\n",
            "Requirement already satisfied: pandas<3,>=1.4.0 in /usr/local/lib/python3.11/dist-packages (from streamlit) (2.2.2)\n",
            "Requirement already satisfied: pillow<12,>=7.1.0 in /usr/local/lib/python3.11/dist-packages (from streamlit) (11.1.0)\n",
            "Requirement already satisfied: protobuf<6,>=3.20 in /usr/local/lib/python3.11/dist-packages (from streamlit) (4.25.6)\n",
            "Requirement already satisfied: pyarrow>=7.0 in /usr/local/lib/python3.11/dist-packages (from streamlit) (18.1.0)\n",
            "Requirement already satisfied: requests<3,>=2.27 in /usr/local/lib/python3.11/dist-packages (from streamlit) (2.32.3)\n",
            "Requirement already satisfied: tenacity<10,>=8.1.0 in /usr/local/lib/python3.11/dist-packages (from streamlit) (9.0.0)\n",
            "Requirement already satisfied: toml<2,>=0.10.1 in /usr/local/lib/python3.11/dist-packages (from streamlit) (0.10.2)\n",
            "Requirement already satisfied: typing-extensions<5,>=4.4.0 in /usr/local/lib/python3.11/dist-packages (from streamlit) (4.12.2)\n",
            "Requirement already satisfied: watchdog<7,>=2.1.5 in /usr/local/lib/python3.11/dist-packages (from streamlit) (6.0.0)\n",
            "Requirement already satisfied: gitpython!=3.1.19,<4,>=3.0.7 in /usr/local/lib/python3.11/dist-packages (from streamlit) (3.1.44)\n",
            "Requirement already satisfied: pydeck<1,>=0.8.0b4 in /usr/local/lib/python3.11/dist-packages (from streamlit) (0.9.1)\n",
            "Requirement already satisfied: tornado<7,>=6.0.3 in /usr/local/lib/python3.11/dist-packages (from streamlit) (6.4.2)\n",
            "Requirement already satisfied: jinja2 in /usr/local/lib/python3.11/dist-packages (from altair<6,>=4.0->streamlit) (3.1.5)\n",
            "Requirement already satisfied: jsonschema>=3.0 in /usr/local/lib/python3.11/dist-packages (from altair<6,>=4.0->streamlit) (4.23.0)\n",
            "Requirement already satisfied: narwhals>=1.14.2 in /usr/local/lib/python3.11/dist-packages (from altair<6,>=4.0->streamlit) (1.28.0)\n",
            "Requirement already satisfied: gitdb<5,>=4.0.1 in /usr/local/lib/python3.11/dist-packages (from gitpython!=3.1.19,<4,>=3.0.7->streamlit) (4.0.12)\n",
            "Requirement already satisfied: python-dateutil>=2.8.2 in /usr/local/lib/python3.11/dist-packages (from pandas<3,>=1.4.0->streamlit) (2.8.2)\n",
            "Requirement already satisfied: pytz>=2020.1 in /usr/local/lib/python3.11/dist-packages (from pandas<3,>=1.4.0->streamlit) (2025.1)\n",
            "Requirement already satisfied: tzdata>=2022.7 in /usr/local/lib/python3.11/dist-packages (from pandas<3,>=1.4.0->streamlit) (2025.1)\n",
            "Requirement already satisfied: charset-normalizer<4,>=2 in /usr/local/lib/python3.11/dist-packages (from requests<3,>=2.27->streamlit) (3.4.1)\n",
            "Requirement already satisfied: idna<4,>=2.5 in /usr/local/lib/python3.11/dist-packages (from requests<3,>=2.27->streamlit) (3.10)\n",
            "Requirement already satisfied: urllib3<3,>=1.21.1 in /usr/local/lib/python3.11/dist-packages (from requests<3,>=2.27->streamlit) (2.3.0)\n",
            "Requirement already satisfied: certifi>=2017.4.17 in /usr/local/lib/python3.11/dist-packages (from requests<3,>=2.27->streamlit) (2025.1.31)\n",
            "Requirement already satisfied: smmap<6,>=3.0.1 in /usr/local/lib/python3.11/dist-packages (from gitdb<5,>=4.0.1->gitpython!=3.1.19,<4,>=3.0.7->streamlit) (5.0.2)\n",
            "Requirement already satisfied: MarkupSafe>=2.0 in /usr/local/lib/python3.11/dist-packages (from jinja2->altair<6,>=4.0->streamlit) (3.0.2)\n",
            "Requirement already satisfied: attrs>=22.2.0 in /usr/local/lib/python3.11/dist-packages (from jsonschema>=3.0->altair<6,>=4.0->streamlit) (25.1.0)\n",
            "Requirement already satisfied: jsonschema-specifications>=2023.03.6 in /usr/local/lib/python3.11/dist-packages (from jsonschema>=3.0->altair<6,>=4.0->streamlit) (2024.10.1)\n",
            "Requirement already satisfied: referencing>=0.28.4 in /usr/local/lib/python3.11/dist-packages (from jsonschema>=3.0->altair<6,>=4.0->streamlit) (0.36.2)\n",
            "Requirement already satisfied: rpds-py>=0.7.1 in /usr/local/lib/python3.11/dist-packages (from jsonschema>=3.0->altair<6,>=4.0->streamlit) (0.23.1)\n",
            "Requirement already satisfied: six>=1.5 in /usr/local/lib/python3.11/dist-packages (from python-dateutil>=2.8.2->pandas<3,>=1.4.0->streamlit) (1.17.0)\n"
          ]
        }
      ]
    },
    {
      "cell_type": "code",
      "source": [
        "import os\n",
        "import gdown\n",
        "\n",
        "file_id = \"14vSDvUSTtdFZxZ6U3kg55xkO5qC4IP8R\"  # Replace with your file ID\n",
        "url = f\"https://drive.google.com/uc?id={file_id}\"\n",
        "output = \"stock_price_prediction.keras\"\n",
        "\n",
        "gdown.download(url, output, quiet=False)\n",
        "\n",
        "# Check if file exists before loading\n",
        "if os.path.exists(output):\n",
        "    model = load_model(output)\n",
        "else:\n",
        "    raise FileNotFoundError(\"Model file not found! Check the download link.\")\n"
      ],
      "metadata": {
        "colab": {
          "base_uri": "https://localhost:8080/"
        },
        "id": "ISmBYRv07Pln",
        "outputId": "61552f08-9c0c-4f18-c4a1-377d18991e4d"
      },
      "execution_count": 18,
      "outputs": [
        {
          "output_type": "stream",
          "name": "stderr",
          "text": [
            "Downloading...\n",
            "From: https://drive.google.com/uc?id=14vSDvUSTtdFZxZ6U3kg55xkO5qC4IP8R\n",
            "To: /content/stock_price_prediction.keras\n",
            "100%|██████████| 2.20M/2.20M [00:00<00:00, 131MB/s]\n"
          ]
        }
      ]
    },
    {
      "cell_type": "code",
      "execution_count": 20,
      "metadata": {
        "colab": {
          "base_uri": "https://localhost:8080/",
          "height": 734
        },
        "id": "QF2MYCYM0YPo",
        "outputId": "9f97e3cc-47cc-4e68-9ae5-28940158c8ab"
      },
      "outputs": [
        {
          "output_type": "stream",
          "name": "stdout",
          "text": [
            "Requirement already satisfied: gdown in /usr/local/lib/python3.11/dist-packages (5.2.0)\n",
            "Requirement already satisfied: beautifulsoup4 in /usr/local/lib/python3.11/dist-packages (from gdown) (4.13.3)\n",
            "Requirement already satisfied: filelock in /usr/local/lib/python3.11/dist-packages (from gdown) (3.17.0)\n",
            "Requirement already satisfied: requests[socks] in /usr/local/lib/python3.11/dist-packages (from gdown) (2.32.3)\n",
            "Requirement already satisfied: tqdm in /usr/local/lib/python3.11/dist-packages (from gdown) (4.67.1)\n",
            "Requirement already satisfied: soupsieve>1.2 in /usr/local/lib/python3.11/dist-packages (from beautifulsoup4->gdown) (2.6)\n",
            "Requirement already satisfied: typing-extensions>=4.0.0 in /usr/local/lib/python3.11/dist-packages (from beautifulsoup4->gdown) (4.12.2)\n",
            "Requirement already satisfied: charset-normalizer<4,>=2 in /usr/local/lib/python3.11/dist-packages (from requests[socks]->gdown) (3.4.1)\n",
            "Requirement already satisfied: idna<4,>=2.5 in /usr/local/lib/python3.11/dist-packages (from requests[socks]->gdown) (3.10)\n",
            "Requirement already satisfied: urllib3<3,>=1.21.1 in /usr/local/lib/python3.11/dist-packages (from requests[socks]->gdown) (2.3.0)\n",
            "Requirement already satisfied: certifi>=2017.4.17 in /usr/local/lib/python3.11/dist-packages (from requests[socks]->gdown) (2025.1.31)\n",
            "Requirement already satisfied: PySocks!=1.5.7,>=1.5.6 in /usr/local/lib/python3.11/dist-packages (from requests[socks]->gdown) (1.7.1)\n"
          ]
        },
        {
          "output_type": "stream",
          "name": "stderr",
          "text": [
            "Downloading...\n",
            "From: https://drive.google.com/uc?id=14vSDvUSTtdFZxZ6U3kg55xkO5qC4IP8R\n",
            "To: /content/stock_price_prediction.keras\n",
            "100%|██████████| 2.20M/2.20M [00:00<00:00, 138MB/s]\n",
            "Downloading...\n",
            "From: https://drive.google.com/file/d/14vSDvUSTtdFZxZ6U3kg55xkO5qC4IP8R/view?usp=sharing\n",
            "To: /content/stock_price_prediction.keras\n",
            "34.5kB [00:00, 21.3MB/s]\n"
          ]
        },
        {
          "output_type": "error",
          "ename": "ValueError",
          "evalue": "File not found: filepath=stock_price_prediction.keras. Please ensure the file is an accessible `.keras` zip file.",
          "traceback": [
            "\u001b[0;31m---------------------------------------------------------------------------\u001b[0m",
            "\u001b[0;31mValueError\u001b[0m                                Traceback (most recent call last)",
            "\u001b[0;32m<ipython-input-20-a855a3b80a14>\u001b[0m in \u001b[0;36m<cell line: 0>\u001b[0;34m()\u001b[0m\n\u001b[1;32m     22\u001b[0m \u001b[0;34m\u001b[0m\u001b[0m\n\u001b[1;32m     23\u001b[0m \u001b[0;32mif\u001b[0m \u001b[0mos\u001b[0m\u001b[0;34m.\u001b[0m\u001b[0mpath\u001b[0m\u001b[0;34m.\u001b[0m\u001b[0mexists\u001b[0m\u001b[0;34m(\u001b[0m\u001b[0moutput\u001b[0m\u001b[0;34m)\u001b[0m\u001b[0;34m:\u001b[0m\u001b[0;34m\u001b[0m\u001b[0;34m\u001b[0m\u001b[0m\n\u001b[0;32m---> 24\u001b[0;31m     \u001b[0mmodel\u001b[0m \u001b[0;34m=\u001b[0m \u001b[0mload_model\u001b[0m\u001b[0;34m(\u001b[0m\u001b[0moutput\u001b[0m\u001b[0;34m)\u001b[0m \u001b[0;31m# Assuming your model is saved as .h5\u001b[0m\u001b[0;34m\u001b[0m\u001b[0;34m\u001b[0m\u001b[0m\n\u001b[0m\u001b[1;32m     25\u001b[0m \u001b[0;32melse\u001b[0m\u001b[0;34m:\u001b[0m\u001b[0;34m\u001b[0m\u001b[0;34m\u001b[0m\u001b[0m\n\u001b[1;32m     26\u001b[0m     \u001b[0;32mraise\u001b[0m \u001b[0mFileNotFoundError\u001b[0m\u001b[0;34m(\u001b[0m\u001b[0;34m\"Model file not found! Check the download link.\"\u001b[0m\u001b[0;34m)\u001b[0m\u001b[0;34m\u001b[0m\u001b[0;34m\u001b[0m\u001b[0m\n",
            "\u001b[0;32m/usr/local/lib/python3.11/dist-packages/keras/src/saving/saving_api.py\u001b[0m in \u001b[0;36mload_model\u001b[0;34m(filepath, custom_objects, compile, safe_mode)\u001b[0m\n\u001b[1;32m    198\u001b[0m         )\n\u001b[1;32m    199\u001b[0m     \u001b[0;32melif\u001b[0m \u001b[0mstr\u001b[0m\u001b[0;34m(\u001b[0m\u001b[0mfilepath\u001b[0m\u001b[0;34m)\u001b[0m\u001b[0;34m.\u001b[0m\u001b[0mendswith\u001b[0m\u001b[0;34m(\u001b[0m\u001b[0;34m\".keras\"\u001b[0m\u001b[0;34m)\u001b[0m\u001b[0;34m:\u001b[0m\u001b[0;34m\u001b[0m\u001b[0;34m\u001b[0m\u001b[0m\n\u001b[0;32m--> 200\u001b[0;31m         raise ValueError(\n\u001b[0m\u001b[1;32m    201\u001b[0m             \u001b[0;34mf\"File not found: filepath={filepath}. \"\u001b[0m\u001b[0;34m\u001b[0m\u001b[0;34m\u001b[0m\u001b[0m\n\u001b[1;32m    202\u001b[0m             \u001b[0;34m\"Please ensure the file is an accessible `.keras` \"\u001b[0m\u001b[0;34m\u001b[0m\u001b[0;34m\u001b[0m\u001b[0m\n",
            "\u001b[0;31mValueError\u001b[0m: File not found: filepath=stock_price_prediction.keras. Please ensure the file is an accessible `.keras` zip file."
          ]
        }
      ],
      "source": [
        "!pip install gdown\n",
        "import gdown\n",
        "import gdown\n",
        "file_id = \"14vSDvUSTtdFZxZ6U3kg55xkO5qC4IP8R\"  # Replace with your file ID\n",
        "url = f\"https://drive.google.com/uc?id={file_id}\"  # Correct format\n",
        "output = \"stock_price_prediction.keras\"\n",
        "\n",
        "gdown.download(url, output, quiet=False)  # Download the file\n",
        "\n",
        "\n",
        "import numpy as np\n",
        "import pandas as pd\n",
        "import yfinance as yf\n",
        "from keras.models import load_model\n",
        "import streamlit as st\n",
        "import matplotlib.pyplot as plt\n",
        "\n",
        "# Download the model file to a local path\n",
        "url = \"https://drive.google.com/file/d/14vSDvUSTtdFZxZ6U3kg55xkO5qC4IP8R/view?usp=sharing\"\n",
        "output = 'stock_price_prediction.keras'\n",
        "gdown.download(url, output, quiet=False)\n",
        "\n",
        "if os.path.exists(output):\n",
        "    model = load_model(output) # Assuming your model is saved as .h5\n",
        "else:\n",
        "    raise FileNotFoundError(\"Model file not found! Check the download link.\")\n",
        "\n",
        "model = load_model(output) # Assuming your model is saved as .h5\n",
        "\n",
        "st.header('Stock Market Predictor')\n",
        "\n",
        "stock =st.text_input('Enter Stock Symbol', 'GOOG')\n",
        "start = '2012-01-01'\n",
        "end = '2024-12-31'\n",
        "\n",
        "data = yf.download(stock, start ,end)\n",
        "\n",
        "st.subheader('Stock Data')\n",
        "st.write(data)\n",
        "\n",
        "data_train = pd.DataFrame(data.Close[0: int(len(data)*0.80)])\n",
        "data_test = pd.DataFrame(data.Close[int(len(data)*0.80): len(data)])\n",
        "\n",
        "from sklearn.preprocessing import MinMaxScaler\n",
        "scaler = MinMaxScaler(feature_range=(0,1))\n",
        "\n",
        "pas_100_days = data_train.tail(100)\n",
        "data_test = pd.concat([pas_100_days, data_test], ignore_index=True)\n",
        "data_test_scale = scaler.fit_transform(np.array(data_test).reshape(-1,1)) #Reshape for scaler\n",
        "\n",
        "st.subheader('Price vs MA50')\n",
        "ma_50_days = data.Close.rolling(50).mean()\n",
        "fig1 = plt.figure(figsize=(8,6))\n",
        "plt.plot(ma_50_days, 'r')\n",
        "plt.plot(data.Close, 'g')\n",
        "st.pyplot(fig1)\n",
        "\n",
        "st.subheader('Price vs MA50 vs MA100')\n",
        "ma_100_days = data.Close.rolling(100).mean()\n",
        "fig2 = plt.figure(figsize=(8,6))\n",
        "plt.plot(ma_50_days, 'r')\n",
        "plt.plot(ma_100_days, 'b')\n",
        "plt.plot(data.Close, 'g')\n",
        "st.pyplot(fig2)\n",
        "\n",
        "st.subheader('Price vs MA100 vs MA200')\n",
        "ma_200_days = data.Close.rolling(200).mean()\n",
        "fig3 = plt.figure(figsize=(8,6))\n",
        "plt.plot(ma_100_days, 'r')\n",
        "plt.plot(ma_200_days, 'b')\n",
        "plt.plot(data.Close, 'g')\n",
        "st.pyplot(fig3)\n",
        "\n",
        "x = []\n",
        "y = []\n",
        "\n",
        "for i in range(100, data_test_scale.shape[0]):\n",
        "    x.append(data_test_scale[i-100:i])\n",
        "    y.append(data_test_scale[i,0])\n",
        "\n",
        "x,y = np.array(x), np.array(y)\n",
        "\n",
        "predict = model.predict(x)\n",
        "\n",
        "scale = 1/scaler.scale_[0] # Access the scale factor correctly\n",
        "\n",
        "predict = predict * scale\n",
        "y = y * scale\n",
        "\n",
        "st.subheader('Original Price vs Predicted Price')\n",
        "fig4 = plt.figure(figsize=(8,6))\n",
        "plt.plot(predict, 'r', label='Predicted Price') #Swapped labels\n",
        "plt.plot(y, 'g', label = 'Original Price') #Swapped labels\n",
        "plt.xlabel('Time')\n",
        "plt.ylabel('Price')\n",
        "plt.legend() #Added legend\n",
        "st.pyplot(fig4)\n",
        "\n",
        "stock =st.text_input('Enter Stock Symnbol', 'GOOG')\n",
        "start = '2012-01-01'\n",
        "end = '2024-12-31'\n",
        "\n",
        "data = yf.download(stock, start ,end)\n",
        "\n",
        "st.subheader('Stock Data')\n",
        "st.write(data)\n",
        "\n",
        "data_train = pd.DataFrame(data.Close[0: int(len(data)*0.80)])\n",
        "data_test = pd.DataFrame(data.Close[int(len(data)*0.80): len(data)])\n",
        "\n",
        "from sklearn.preprocessing import MinMaxScaler\n",
        "scaler = MinMaxScaler(feature_range=(0,1))\n",
        "\n",
        "pas_100_days = data_train.tail(100)\n",
        "data_test = pd.concat([pas_100_days, data_test], ignore_index=True)\n",
        "data_test_scale = scaler.fit_transform(data_test)\n",
        "\n",
        "st.subheader('Price vs MA50')\n",
        "ma_50_days = data.Close.rolling(50).mean()\n",
        "fig1 = plt.figure(figsize=(8,6))\n",
        "plt.plot(ma_50_days, 'r')\n",
        "plt.plot(data.Close, 'g')\n",
        "plt.show()\n",
        "st.pyplot(fig1)\n",
        "\n",
        "st.subheader('Price vs MA50 vs MA100')\n",
        "ma_100_days = data.Close.rolling(100).mean()\n",
        "fig2 = plt.figure(figsize=(8,6))\n",
        "plt.plot(ma_50_days, 'r')\n",
        "plt.plot(ma_100_days, 'b')\n",
        "plt.plot(data.Close, 'g')\n",
        "plt.show()\n",
        "st.pyplot(fig2)\n",
        "\n",
        "st.subheader('Price vs MA100 vs MA200')\n",
        "ma_200_days = data.Close.rolling(200).mean()\n",
        "fig3 = plt.figure(figsize=(8,6))\n",
        "plt.plot(ma_100_days, 'r')\n",
        "plt.plot(ma_200_days, 'b')\n",
        "plt.plot(data.Close, 'g')\n",
        "plt.show()\n",
        "st.pyplot(fig3)\n",
        "\n",
        "x = []\n",
        "y = []\n",
        "\n",
        "for i in range(100, data_test_scale.shape[0]):\n",
        "    x.append(data_test_scale[i-100:i])\n",
        "    y.append(data_test_scale[i,0])\n",
        "\n",
        "x,y = np.array(x), np.array(y)\n",
        "\n",
        "predict = model.predict(x)\n",
        "\n",
        "scale = 1/scaler.scale_\n",
        "\n",
        "predict = predict * scale\n",
        "y = y * scale\n",
        "\n",
        "st.subheader('Original Price vs Predicted Price')\n",
        "fig4 = plt.figure(figsize=(8,6))\n",
        "plt.plot(predict, 'r', label='Original Price')\n",
        "plt.plot(y, 'g', label = 'Predicted Price')\n",
        "plt.xlabel('Time')\n",
        "plt.ylabel('Price')\n",
        "plt.show()\n",
        "st.pyplot(fig4)"
      ]
    },
    {
      "cell_type": "code",
      "source": [],
      "metadata": {
        "id": "DX5irJw_7M-B"
      },
      "execution_count": null,
      "outputs": []
    }
  ]
}